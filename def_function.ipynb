{
  "nbformat": 4,
  "nbformat_minor": 0,
  "metadata": {
    "colab": {
      "provenance": [],
      "collapsed_sections": [],
      "authorship_tag": "ABX9TyOH4xHqOB8s8mYAvKpDg+ra",
      "include_colab_link": true
    },
    "kernelspec": {
      "name": "python3",
      "display_name": "Python 3"
    },
    "language_info": {
      "name": "python"
    }
  },
  "cells": [
    {
      "cell_type": "markdown",
      "metadata": {
        "id": "view-in-github",
        "colab_type": "text"
      },
      "source": [
        "<a href=\"https://colab.research.google.com/github/donaldixonk1708/def-function-./blob/main/def_function.ipynb\" target=\"_parent\"><img src=\"https://colab.research.google.com/assets/colab-badge.svg\" alt=\"Open In Colab\"/></a>"
      ]
    },
    {
      "cell_type": "code",
      "execution_count": 2,
      "metadata": {
        "id": "kEfjRLmRq8lv"
      },
      "outputs": [],
      "source": [
        "def donal():\n",
        "  print(\"donal dixon k\")"
      ]
    },
    {
      "cell_type": "code",
      "source": [
        "donal()"
      ],
      "metadata": {
        "colab": {
          "base_uri": "https://localhost:8080/"
        },
        "id": "yGdJAwnKsgZb",
        "outputId": "6d9ad1f3-aca7-4888-a596-e3c0b9a5f85f"
      },
      "execution_count": 4,
      "outputs": [
        {
          "output_type": "stream",
          "name": "stdout",
          "text": [
            "donal dixon k\n"
          ]
        }
      ]
    },
    {
      "cell_type": "code",
      "source": [
        "def donal(x,y):\n",
        "  z=x+y\n",
        "  print(\"result=\",z)\n"
      ],
      "metadata": {
        "id": "2zXJcNfFspu5"
      },
      "execution_count": 8,
      "outputs": []
    },
    {
      "cell_type": "code",
      "source": [
        "donal(100,200)"
      ],
      "metadata": {
        "colab": {
          "base_uri": "https://localhost:8080/"
        },
        "id": "ysY17FEou87g",
        "outputId": "3b32a4eb-87a0-4d4f-e747-cf4aca6ce688"
      },
      "execution_count": 10,
      "outputs": [
        {
          "output_type": "stream",
          "name": "stdout",
          "text": [
            "result= 300\n"
          ]
        }
      ]
    },
    {
      "cell_type": "code",
      "source": [],
      "metadata": {
        "id": "44_9jsswvCUE"
      },
      "execution_count": null,
      "outputs": []
    },
    {
      "cell_type": "code",
      "source": [
        "def donal(x,y):\n",
        "  z=x-y\n",
        "  print(\"result=\",z)\n"
      ],
      "metadata": {
        "id": "fDQS3n1avdWY"
      },
      "execution_count": 11,
      "outputs": []
    },
    {
      "cell_type": "code",
      "source": [
        "donal(4,2)"
      ],
      "metadata": {
        "colab": {
          "base_uri": "https://localhost:8080/"
        },
        "id": "IoLVMYNSvgIi",
        "outputId": "a6ed0d44-82e8-441a-8d73-aff23607f924"
      },
      "execution_count": 12,
      "outputs": [
        {
          "output_type": "stream",
          "name": "stdout",
          "text": [
            "result= 2\n"
          ]
        }
      ]
    },
    {
      "cell_type": "code",
      "source": [
        "def donal(x,y):\n",
        "  z=x-y\n",
        "  return z"
      ],
      "metadata": {
        "id": "pf1yt517vjqs"
      },
      "execution_count": 13,
      "outputs": []
    },
    {
      "cell_type": "code",
      "source": [
        "donal(8,9)"
      ],
      "metadata": {
        "colab": {
          "base_uri": "https://localhost:8080/"
        },
        "id": "umEASoPkwAYy",
        "outputId": "86323e42-a009-43af-8737-f08a8e3556d3"
      },
      "execution_count": 14,
      "outputs": [
        {
          "output_type": "execute_result",
          "data": {
            "text/plain": [
              "-1"
            ]
          },
          "metadata": {},
          "execution_count": 14
        }
      ]
    },
    {
      "cell_type": "code",
      "source": [
        "def donal(salary):\n",
        "  if salary<2500000:\n",
        "    print(\"no tax\")\n",
        "  if salary>2500000:\n",
        "    print(\"tax\")\n",
        "x=int(input(\"enter a salary\"))\n",
        "donal(x)\n"
      ],
      "metadata": {
        "colab": {
          "base_uri": "https://localhost:8080/"
        },
        "id": "DCTOHgIOwDig",
        "outputId": "2116d775-3be1-4c8f-88b8-99167982b840"
      },
      "execution_count": 22,
      "outputs": [
        {
          "output_type": "stream",
          "name": "stdout",
          "text": [
            "enter a salary200000\n",
            "no tax\n"
          ]
        }
      ]
    },
    {
      "cell_type": "code",
      "source": [
        "def donal(y):\n",
        "  k=0\n",
        "  for a in range(y):\n",
        "    k=k+a\n",
        "    print(k)\n",
        "x=int(input(\"enter a number\"))\n",
        "donal(x)\n"
      ],
      "metadata": {
        "colab": {
          "base_uri": "https://localhost:8080/"
        },
        "id": "RMvb-ainxGCT",
        "outputId": "72ad0cc5-843c-4314-8c7b-b53f32d359e5"
      },
      "execution_count": 33,
      "outputs": [
        {
          "output_type": "stream",
          "name": "stdout",
          "text": [
            "enter a number101\n",
            "0\n",
            "1\n",
            "3\n",
            "6\n",
            "10\n",
            "15\n",
            "21\n",
            "28\n",
            "36\n",
            "45\n",
            "55\n",
            "66\n",
            "78\n",
            "91\n",
            "105\n",
            "120\n",
            "136\n",
            "153\n",
            "171\n",
            "190\n",
            "210\n",
            "231\n",
            "253\n",
            "276\n",
            "300\n",
            "325\n",
            "351\n",
            "378\n",
            "406\n",
            "435\n",
            "465\n",
            "496\n",
            "528\n",
            "561\n",
            "595\n",
            "630\n",
            "666\n",
            "703\n",
            "741\n",
            "780\n",
            "820\n",
            "861\n",
            "903\n",
            "946\n",
            "990\n",
            "1035\n",
            "1081\n",
            "1128\n",
            "1176\n",
            "1225\n",
            "1275\n",
            "1326\n",
            "1378\n",
            "1431\n",
            "1485\n",
            "1540\n",
            "1596\n",
            "1653\n",
            "1711\n",
            "1770\n",
            "1830\n",
            "1891\n",
            "1953\n",
            "2016\n",
            "2080\n",
            "2145\n",
            "2211\n",
            "2278\n",
            "2346\n",
            "2415\n",
            "2485\n",
            "2556\n",
            "2628\n",
            "2701\n",
            "2775\n",
            "2850\n",
            "2926\n",
            "3003\n",
            "3081\n",
            "3160\n",
            "3240\n",
            "3321\n",
            "3403\n",
            "3486\n",
            "3570\n",
            "3655\n",
            "3741\n",
            "3828\n",
            "3916\n",
            "4005\n",
            "4095\n",
            "4186\n",
            "4278\n",
            "4371\n",
            "4465\n",
            "4560\n",
            "4656\n",
            "4753\n",
            "4851\n",
            "4950\n",
            "5050\n"
          ]
        }
      ]
    },
    {
      "cell_type": "code",
      "source": [],
      "metadata": {
        "id": "31M87rc_4jCU"
      },
      "execution_count": null,
      "outputs": []
    }
  ]
}