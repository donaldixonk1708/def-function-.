{
  "nbformat": 4,
  "nbformat_minor": 0,
  "metadata": {
    "colab": {
      "provenance": [],
      "authorship_tag": "ABX9TyMfVZ4ikWqVUzrQJXa3ttC2",
      "include_colab_link": true
    },
    "kernelspec": {
      "name": "python3",
      "display_name": "Python 3"
    },
    "language_info": {
      "name": "python"
    }
  },
  "cells": [
    {
      "cell_type": "markdown",
      "metadata": {
        "id": "view-in-github",
        "colab_type": "text"
      },
      "source": [
        "<a href=\"https://colab.research.google.com/github/donaldixonk1708/def-function-./blob/main/Untitled9.ipynb\" target=\"_parent\"><img src=\"https://colab.research.google.com/assets/colab-badge.svg\" alt=\"Open In Colab\"/></a>"
      ]
    },
    {
      "cell_type": "code",
      "execution_count": 1,
      "metadata": {
        "colab": {
          "base_uri": "https://localhost:8080/"
        },
        "id": "DRr3gIUvvTOl",
        "outputId": "502af367-fb54-4819-c2e9-efe759dbd9e4"
      },
      "outputs": [
        {
          "output_type": "stream",
          "name": "stdout",
          "text": [
            "Fifa World Cup\n"
          ]
        }
      ],
      "source": [
        "def fun_name():\n",
        "  print(\"Fifa World Cup\")\n",
        "fun_name()"
      ]
    },
    {
      "cell_type": "code",
      "source": [
        "def  namies():\n",
        "  x=input(\"enter first name:\")\n",
        "  y=input(\"enter middle name:\")\n",
        "  z=input(\"enter last name:\")\n",
        "  print(x,y,z)\n",
        "  "
      ],
      "metadata": {
        "id": "VTOH3s7lwkP3"
      },
      "execution_count": 4,
      "outputs": []
    },
    {
      "cell_type": "code",
      "source": [
        "namies()"
      ],
      "metadata": {
        "colab": {
          "base_uri": "https://localhost:8080/"
        },
        "id": "KKVwryzwyxu7",
        "outputId": "a2fb0fd4-b584-45d7-ae11-44a99347bb15"
      },
      "execution_count": 6,
      "outputs": [
        {
          "output_type": "stream",
          "name": "stdout",
          "text": [
            "enter first name:donal\n",
            "enter middle name:dixon\n",
            "enter last name:k\n",
            "donal dixon k\n"
          ]
        }
      ]
    },
    {
      "cell_type": "code",
      "source": [
        "def  namies():\n",
        "  x=input(\"enter first name:\")\n",
        "  y=input(\"enter middle name:\")\n",
        "  z=input(\"enter last name:\")\n",
        "  print(z,x,y)\n"
      ],
      "metadata": {
        "id": "rkTM5UKQy59j"
      },
      "execution_count": 8,
      "outputs": []
    },
    {
      "cell_type": "code",
      "source": [
        "  namies()"
      ],
      "metadata": {
        "colab": {
          "base_uri": "https://localhost:8080/"
        },
        "id": "VMAW3OBE0w3r",
        "outputId": "a68630f7-b077-4b2c-fc66-4ee18aded7de"
      },
      "execution_count": 9,
      "outputs": [
        {
          "output_type": "stream",
          "name": "stdout",
          "text": [
            "enter first name:donal\n",
            "enter middle name:dixon\n",
            "enter last name:k\n",
            "k donal dixon\n"
          ]
        }
      ]
    },
    {
      "cell_type": "code",
      "source": [
        "def fun_name(country = \"Norway\"):\n",
        "  print(\"I am from \" + country)\n",
        "fun_name(\"Sweden\")\n",
        "fun_name(\"India\")\n",
        "fun_name()\n",
        "fun_name(\"Brazil\")\n",
        "\n",
        " "
      ],
      "metadata": {
        "colab": {
          "base_uri": "https://localhost:8080/"
        },
        "id": "_nN_UHpS0zoQ",
        "outputId": "59e2b487-d0eb-4550-966e-6510667af780"
      },
      "execution_count": 18,
      "outputs": [
        {
          "output_type": "stream",
          "name": "stdout",
          "text": [
            "I am from Sweden\n",
            "I am from India\n",
            "I am from Norway\n",
            "I am from Brazil\n"
          ]
        }
      ]
    },
    {
      "cell_type": "code",
      "source": [
        "fun_name(\"Sweden\")\n",
        "fun_name(\"India\")\n",
        "fun_name()\n",
        "fun_name(\"Brazil\")"
      ],
      "metadata": {
        "colab": {
          "base_uri": "https://localhost:8080/"
        },
        "id": "3-WCjAUM2VcL",
        "outputId": "338dcbad-2d48-4bb6-92e1-3d3fcc02b21f"
      },
      "execution_count": 17,
      "outputs": [
        {
          "output_type": "stream",
          "name": "stdout",
          "text": [
            "I am from Sweden\n",
            "I am from India\n",
            "I am from Norway\n",
            "I am from Brazil\n"
          ]
        }
      ]
    },
    {
      "cell_type": "code",
      "source": [],
      "metadata": {
        "id": "z1EL1rSq2z5t"
      },
      "execution_count": null,
      "outputs": []
    }
  ]
}